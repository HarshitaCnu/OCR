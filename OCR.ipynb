{
  "nbformat": 4,
  "nbformat_minor": 0,
  "metadata": {
    "colab": {
      "provenance": [],
      "authorship_tag": "ABX9TyNkD5YwDS9Ftm+dgkPGdHtx"
    },
    "kernelspec": {
      "name": "python3",
      "display_name": "Python 3"
    },
    "language_info": {
      "name": "python"
    }
  },
  "cells": [
    {
      "cell_type": "code",
      "execution_count": null,
      "metadata": {
        "id": "PPUz_EFcjgIL"
      },
      "outputs": [],
      "source": [
        "import cv2\n",
        "import numpy as np\n",
        "from keras.models import load_model\n",
        "import requests\n",
        "import matplotlib.pyplot as plt\n",
        "\n",
        "# Loading image from URL\n",
        "def load_image_from_url(url):\n",
        "    resp = requests.get(url)\n",
        "    resp.raise_for_status()  # Checking whether the request is successful\n",
        "    # Decoding of the image\n",
        "    image = np.asarray(bytearray(resp.content), dtype=\"uint8\")\n",
        "    image = cv2.imdecode(image, cv2.IMREAD_COLOR)\n",
        "    return image\n",
        "\n",
        "# image preprocessing\n",
        "def preprocess_image(image):\n",
        "    gray = cv2.cvtColor(image, cv2.COLOR_BGR2GRAY)\n",
        "    # Applying preprocessing techniques like thresholding, noise removal\n",
        "    return gray\n",
        "\n",
        "# Detecting the text regions- EAST text detector\n",
        "def detect_text(image):\n",
        "    # Implementation of text detection algorithm EAST to detect text regions\n",
        "    # coordinates of the bounding boxes over the text regions are returned\n",
        "    text_boxes = [(60, 80, 250, 120), (80, 150, 300, 180)]\n",
        "    return text_boxes\n",
        "\n",
        "# Recognizing text using a pre-trained OCR model\n",
        "def recognize_text(image, text_boxes, recognition_model):\n",
        "    recognized_text = []\n",
        "    for box in text_boxes:\n",
        "        # Crop the region defined by the bounding box\n",
        "        region = image[box[1]:box[3], box[0]:box[2]]\n",
        "        # Resizing the cropped region to a fixed size\n",
        "        resized_region = cv2.resize(region, (100, 50))\n",
        "        # Normalize the image if necessary\n",
        "        # Text recognition using the recognition model\n",
        "        text = \"Sample Text\"  # Replace with actual recognition logic\n",
        "        recognized_text.append(text)\n",
        "    return recognized_text\n",
        "\n",
        "# Loadinge input image from  URL\n",
        "image_url = \"https://media.licdn.com/dms/image/C5612AQGPW37mBFjvqw/article-cover_image-shrink_600_2000/0/1520160338639?e=2147483647&v=beta&t=ExpNEer5rX2o27_ph6Pezqi7P-Fm35iib1UoTCYowFI\"\n",
        "image = load_image_from_url(image_url)\n",
        "\n",
        "# image preprocessing\n",
        "processed_image = preprocess_image(image)\n",
        "\n",
        "# Detect text regions\n",
        "text_boxes = detect_text(processed_image)\n",
        "\n",
        "# Loading text recognition model\n",
        "# Replace with your model path\n",
        "\n",
        "# Recognize text in the detected regions\n",
        "# recognized_text = recognize_text(processed_image, text_boxes, recognition_model)\n",
        "\n",
        "# Display the original image with detected text regions on console\n",
        "image_with_text_boxes = image.copy()\n",
        "for box in text_boxes:\n",
        "    cv2.rectangle(image_with_text_boxes, (box[0], box[1]), (box[2], box[3]), (0, 255, 0), 2)\n",
        "plt.imshow(cv2.cvtColor(image_with_text_boxes, cv2.COLOR_BGR2RGB))\n",
        "plt.axis('off')\n",
        "plt.show()"
      ]
    }
  ]
}